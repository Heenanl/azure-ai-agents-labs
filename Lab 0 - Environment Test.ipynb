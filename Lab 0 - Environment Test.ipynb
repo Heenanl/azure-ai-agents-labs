{
 "cells": [
  {
   "cell_type": "markdown",
   "id": "8355a6b0",
   "metadata": {},
   "source": [
    "# 🧪 Lab 0 - Environment Test\n",
    "\n",
    "This notebook helps you verify that your Azure AI Foundry environment is properly configured before starting the workshop labs.\n",
    "\n",
    "---"
   ]
  },
  {
   "cell_type": "markdown",
   "id": "67162952",
   "metadata": {},
   "source": [
    "## ✅ Prerequisites Check\n",
    "\n",
    "Before running this test, make sure you have completed all the setup steps in `GH_codespaces.md`:\n",
    "\n",
    "1. ✅ Created GitHub account and launched Codespaces\n",
    "2. ✅ Authenticated with Azure CLI (`az login`)\n",
    "3. ✅ Set up Python virtual environment\n",
    "4. ✅ Installed dependencies (`pip install -r requirements.txt`)\n",
    "5. ✅ Created and configured `.env` file with your Azure AI Foundry values\n",
    "\n",
    "---"
   ]
  },
  {
   "cell_type": "markdown",
   "id": "0d53967d",
   "metadata": {},
   "source": [
    "## 📦 Import Required Packages\n",
    "\n",
    "Let's start by importing all the packages we need for testing the environment."
   ]
  },
  {
   "cell_type": "code",
   "execution_count": 2,
   "id": "9e04cb86",
   "metadata": {},
   "outputs": [
    {
     "name": "stdout",
     "output_type": "stream",
     "text": [
      "✅ Packages imported successfully!\n",
      "✅ Environment variables loaded!\n"
     ]
    }
   ],
   "source": [
    "# Import packages\n",
    "import os\n",
    "from azure.ai.projects import AIProjectClient\n",
    "from azure.core.credentials import AzureKeyCredential\n",
    "from azure.identity import DefaultAzureCredential\n",
    "from dotenv import load_dotenv\n",
    "\n",
    "# Load environment variables from .env file\n",
    "load_dotenv()\n",
    "print(\"✅ Packages imported successfully!\")\n",
    "print(\"✅ Environment variables loaded!\")"
   ]
  },
  {
   "cell_type": "markdown",
   "id": "52072006",
   "metadata": {},
   "source": [
    "## 🔍 Verify Environment Variables\n",
    "\n",
    "Let's check that your `.env` file contains the required values."
   ]
  },
  {
   "cell_type": "code",
   "execution_count": 3,
   "id": "e5bcf68d",
   "metadata": {},
   "outputs": [
    {
     "name": "stdout",
     "output_type": "stream",
     "text": [
      "🔍 Checking environment variables...\n",
      "\n",
      "✅ AIPROJECT_ENDPOINT: https://shve-agents-resource.services.ai.azure.com...\n",
      "✅ API_KEY: 4f6LUsmL...pXg3\n",
      "✅ CHAT_MODEL: gpt-4o\n",
      "✅ CHAT_MODEL_ENDPOINT: https://shve-agents-resource.cognitiveservices.azu...\n",
      "\n",
      "🎉 All environment variables are configured!\n"
     ]
    }
   ],
   "source": [
    "# Check environment variables\n",
    "required_vars = {\n",
    "    \"AIPROJECT_ENDPOINT\": os.getenv(\"AIPROJECT_ENDPOINT\"),\n",
    "    \"API_KEY\": os.getenv(\"API_KEY\"),\n",
    "    \"CHAT_MODEL\": os.getenv(\"CHAT_MODEL\"),\n",
    "    \"CHAT_MODEL_ENDPOINT\": os.getenv(\"CHAT_MODEL_ENDPOINT\")\n",
    "}\n",
    "\n",
    "print(\"🔍 Checking environment variables...\\n\")\n",
    "\n",
    "all_set = True\n",
    "for var_name, var_value in required_vars.items():\n",
    "    if var_value:\n",
    "        # Show partial value for security (don't expose full keys/endpoints)\n",
    "        if \"KEY\" in var_name.upper():\n",
    "            display_value = f\"{var_value[:8]}...{var_value[-4:]}\" if len(var_value) > 12 else \"[SET]\"\n",
    "        else:\n",
    "            display_value = var_value[:50] + \"...\" if len(var_value) > 50 else var_value\n",
    "        print(f\"✅ {var_name}: {display_value}\")\n",
    "    else:\n",
    "        print(f\"❌ {var_name}: NOT SET\")\n",
    "        all_set = False\n",
    "\n",
    "if all_set:\n",
    "    print(\"\\n🎉 All environment variables are configured!\")\n",
    "else:\n",
    "    print(\"\\n⚠️ Please check your .env file and ensure all variables are set.\")"
   ]
  },
  {
   "cell_type": "markdown",
   "id": "48733ff8",
   "metadata": {},
   "source": [
    "## 🔐 Initialize AI Project Client\n",
    "\n",
    "Now let's create the AI Project client using **token-based authentication** (recommended approach)."
   ]
  },
  {
   "cell_type": "code",
   "execution_count": 4,
   "id": "7219e55c",
   "metadata": {},
   "outputs": [
    {
     "name": "stdout",
     "output_type": "stream",
     "text": [
      "✅ AI Project Client initialized successfully!\n",
      "📍 Connected to endpoint: https://shve-agents-resource.services.ai.azure.com...\n"
     ]
    }
   ],
   "source": [
    "try:\n",
    "    # Initialize AI Project Client with DefaultAzureCredential (token-based auth)\n",
    "    project = AIProjectClient(\n",
    "        endpoint=os.getenv(\"AIPROJECT_ENDPOINT\"),\n",
    "        credential=DefaultAzureCredential()\n",
    "    )\n",
    "    print(\"✅ AI Project Client initialized successfully!\")\n",
    "    print(f\"📍 Connected to endpoint: {os.getenv('AIPROJECT_ENDPOINT')[:50]}...\")\n",
    "    \n",
    "except Exception as e:\n",
    "    print(f\"❌ Failed to initialize AI Project Client: {str(e)}\")\n",
    "    print(\"\\n💡 Troubleshooting tips:\")\n",
    "    print(\"   1. Make sure you ran 'az login' and authenticated with your Azure account\")\n",
    "    print(\"   2. Verify your AIPROJECT_ENDPOINT in the .env file\")\n",
    "    print(\"   3. Check that you have access to the Azure AI Foundry project\")"
   ]
  },
  {
   "cell_type": "markdown",
   "id": "7809d53f",
   "metadata": {},
   "source": [
    "## 🤖 Test Chat with Your Model\n",
    "\n",
    "Finally, let's test that we can successfully communicate with your deployed GPT-4o model by asking it to tell a joke!"
   ]
  },
  {
   "cell_type": "code",
   "execution_count": 5,
   "id": "622c52b2",
   "metadata": {},
   "outputs": [
    {
     "name": "stdout",
     "output_type": "stream",
     "text": [
      "✅ Chat client initialized successfully!\n",
      "🤖 Testing with model: gpt-4o\n",
      "📝 Sending test message...\n",
      "\n",
      "🎭 AI Response:\n",
      "--------------------------------------------------\n",
      "Of course! Here's a cute teddy bear joke:\n",
      "\n",
      "Why didn’t the teddy bear ask for dessert?  \n",
      "Because it was already stuffed! 🎉🐻\n",
      "--------------------------------------------------\n",
      "\n",
      "🎉 SUCCESS! Your environment is working perfectly!\n",
      "🚀 You're ready to start the workshop labs!\n"
     ]
    }
   ],
   "source": [
    "try:\n",
    "    # Get chat completions client\n",
    "    chat = project.inference.get_chat_completions_client()\n",
    "    print(\"✅ Chat client initialized successfully!\")\n",
    "    \n",
    "    # Send a test message\n",
    "    print(f\"🤖 Testing with model: {os.getenv('CHAT_MODEL')}\")\n",
    "    print(\"📝 Sending test message...\\n\")\n",
    "    \n",
    "    response = chat.complete(\n",
    "        model=os.getenv(\"CHAT_MODEL\"),  # gpt-4o model from your project\n",
    "        messages=[\n",
    "            {\n",
    "                \"role\": \"system\",\n",
    "                \"content\": \"You are an AI assistant that tells jokes for toddlers.\",\n",
    "            },\n",
    "            {\"role\": \"user\", \"content\": \"Hey, can you tell a joke about a teddy bear?\"},\n",
    "        ],\n",
    "    )\n",
    "    \n",
    "    # Print the response\n",
    "    print(\"🎭 AI Response:\")\n",
    "    print(\"-\" * 50)\n",
    "    print(response.choices[0].message.content)\n",
    "    print(\"-\" * 50)\n",
    "    print(\"\\n🎉 SUCCESS! Your environment is working perfectly!\")\n",
    "    print(\"🚀 You're ready to start the workshop labs!\")\n",
    "    \n",
    "except Exception as e:\n",
    "    print(f\"❌ Failed to communicate with the model: {str(e)}\")\n",
    "    print(\"\\n💡 Troubleshooting tips:\")\n",
    "    print(\"   1. Verify your CHAT_MODEL name matches your deployment in Azure AI Foundry\")\n",
    "    print(\"   2. Check your CHAT_MODEL_ENDPOINT in the .env file\")\n",
    "    print(\"   3. Ensure your model deployment is active and running\")\n",
    "    print(\"   4. Verify you have proper permissions to access the model\")"
   ]
  },
  {
   "cell_type": "markdown",
   "id": "3da7fff2",
   "metadata": {},
   "source": [
    "## 🎯 Next Steps\n",
    "\n",
    "If all tests passed successfully, you're ready to proceed with the workshop labs:\n",
    "\n",
    "- **Lab 1**: Project Setup (detailed setup walkthrough)\n",
    "- **Lab 2**: Create AI Agent in AI Foundry UI\n",
    "- **Lab 3**: Create A Simple AI Agent\n",
    "- **Lab 4**: Create A RAG Agent\n",
    "- **Lab 5**: Develop A Multi-Agent System\n",
    "\n",
    "---\n",
    "\n",
    "### ⚠️ If You Encounter Issues\n",
    "\n",
    "1. **Double-check your `.env` file** - Make sure all values are correctly copied from Azure AI Foundry\n",
    "2. **Verify Azure login** - Run `az login` again if needed\n",
    "3. **Check model deployment** - Ensure your GPT-4o model is deployed and active in Azure AI Foundry\n",
    "4. **Review setup steps** - Go back to `GH_codespaces.md` and verify all steps were completed\n",
    "\n",
    "**Happy coding!** 🚀"
   ]
  }
 ],
 "metadata": {
  "kernelspec": {
   "display_name": ".venv",
   "language": "python",
   "name": "python3"
  },
  "language_info": {
   "codemirror_mode": {
    "name": "ipython",
    "version": 3
   },
   "file_extension": ".py",
   "mimetype": "text/x-python",
   "name": "python",
   "nbconvert_exporter": "python",
   "pygments_lexer": "ipython3",
   "version": "3.13.7"
  }
 },
 "nbformat": 4,
 "nbformat_minor": 5
}
